{
 "cells": [
  {
   "cell_type": "code",
   "execution_count": 4,
   "id": "108a549f",
   "metadata": {},
   "outputs": [],
   "source": [
    "import pandas as pd\n",
    "import numpy as np\n",
    "import matplotlib.pyplot as plt\n",
    "import seaborn as sns\n",
    "%matplotlib inline"
   ]
  },
  {
   "cell_type": "code",
   "execution_count": 16,
   "id": "caef145f",
   "metadata": {},
   "outputs": [
    {
     "data": {
      "text/html": [
       "<div>\n",
       "<style scoped>\n",
       "    .dataframe tbody tr th:only-of-type {\n",
       "        vertical-align: middle;\n",
       "    }\n",
       "\n",
       "    .dataframe tbody tr th {\n",
       "        vertical-align: top;\n",
       "    }\n",
       "\n",
       "    .dataframe thead th {\n",
       "        text-align: right;\n",
       "    }\n",
       "</style>\n",
       "<table border=\"1\" class=\"dataframe\">\n",
       "  <thead>\n",
       "    <tr style=\"text-align: right;\">\n",
       "      <th></th>\n",
       "      <th>Avg. Area Income</th>\n",
       "      <th>Avg. Area House Age</th>\n",
       "      <th>Avg. Area Number of Rooms</th>\n",
       "      <th>Avg. Area Number of Bedrooms</th>\n",
       "      <th>Area Population</th>\n",
       "      <th>Price</th>\n",
       "      <th>Address</th>\n",
       "    </tr>\n",
       "  </thead>\n",
       "  <tbody>\n",
       "    <tr>\n",
       "      <th>0</th>\n",
       "      <td>79545.458574</td>\n",
       "      <td>5.682861</td>\n",
       "      <td>7.009188</td>\n",
       "      <td>4.09</td>\n",
       "      <td>23086.800503</td>\n",
       "      <td>1.059034e+06</td>\n",
       "      <td>208 Michael Ferry Apt. 674\\nLaurabury, NE 3701...</td>\n",
       "    </tr>\n",
       "    <tr>\n",
       "      <th>1</th>\n",
       "      <td>79248.642455</td>\n",
       "      <td>6.002900</td>\n",
       "      <td>6.730821</td>\n",
       "      <td>3.09</td>\n",
       "      <td>40173.072174</td>\n",
       "      <td>1.505891e+06</td>\n",
       "      <td>188 Johnson Views Suite 079\\nLake Kathleen, CA...</td>\n",
       "    </tr>\n",
       "    <tr>\n",
       "      <th>2</th>\n",
       "      <td>61287.067179</td>\n",
       "      <td>5.865890</td>\n",
       "      <td>8.512727</td>\n",
       "      <td>5.13</td>\n",
       "      <td>36882.159400</td>\n",
       "      <td>1.058988e+06</td>\n",
       "      <td>9127 Elizabeth Stravenue\\nDanieltown, WI 06482...</td>\n",
       "    </tr>\n",
       "    <tr>\n",
       "      <th>3</th>\n",
       "      <td>63345.240046</td>\n",
       "      <td>7.188236</td>\n",
       "      <td>5.586729</td>\n",
       "      <td>3.26</td>\n",
       "      <td>34310.242831</td>\n",
       "      <td>1.260617e+06</td>\n",
       "      <td>USS Barnett\\nFPO AP 44820</td>\n",
       "    </tr>\n",
       "    <tr>\n",
       "      <th>4</th>\n",
       "      <td>59982.197226</td>\n",
       "      <td>5.040555</td>\n",
       "      <td>7.839388</td>\n",
       "      <td>4.23</td>\n",
       "      <td>26354.109472</td>\n",
       "      <td>6.309435e+05</td>\n",
       "      <td>USNS Raymond\\nFPO AE 09386</td>\n",
       "    </tr>\n",
       "  </tbody>\n",
       "</table>\n",
       "</div>"
      ],
      "text/plain": [
       "   Avg. Area Income  Avg. Area House Age  Avg. Area Number of Rooms  \\\n",
       "0      79545.458574             5.682861                   7.009188   \n",
       "1      79248.642455             6.002900                   6.730821   \n",
       "2      61287.067179             5.865890                   8.512727   \n",
       "3      63345.240046             7.188236                   5.586729   \n",
       "4      59982.197226             5.040555                   7.839388   \n",
       "\n",
       "   Avg. Area Number of Bedrooms  Area Population         Price  \\\n",
       "0                          4.09     23086.800503  1.059034e+06   \n",
       "1                          3.09     40173.072174  1.505891e+06   \n",
       "2                          5.13     36882.159400  1.058988e+06   \n",
       "3                          3.26     34310.242831  1.260617e+06   \n",
       "4                          4.23     26354.109472  6.309435e+05   \n",
       "\n",
       "                                             Address  \n",
       "0  208 Michael Ferry Apt. 674\\nLaurabury, NE 3701...  \n",
       "1  188 Johnson Views Suite 079\\nLake Kathleen, CA...  \n",
       "2  9127 Elizabeth Stravenue\\nDanieltown, WI 06482...  \n",
       "3                          USS Barnett\\nFPO AP 44820  \n",
       "4                         USNS Raymond\\nFPO AE 09386  "
      ]
     },
     "execution_count": 16,
     "metadata": {},
     "output_type": "execute_result"
    }
   ],
   "source": [
    "df= pd.read_csv('housing.csv')\n",
    "df.head()"
   ]
  },
  {
   "cell_type": "code",
   "execution_count": 17,
   "id": "60df9fd4",
   "metadata": {},
   "outputs": [
    {
     "name": "stdout",
     "output_type": "stream",
     "text": [
      "<class 'pandas.core.frame.DataFrame'>\n",
      "RangeIndex: 5000 entries, 0 to 4999\n",
      "Data columns (total 7 columns):\n",
      " #   Column                        Non-Null Count  Dtype  \n",
      "---  ------                        --------------  -----  \n",
      " 0   Avg. Area Income              5000 non-null   float64\n",
      " 1   Avg. Area House Age           5000 non-null   float64\n",
      " 2   Avg. Area Number of Rooms     5000 non-null   float64\n",
      " 3   Avg. Area Number of Bedrooms  5000 non-null   float64\n",
      " 4   Area Population               5000 non-null   float64\n",
      " 5   Price                         5000 non-null   float64\n",
      " 6   Address                       5000 non-null   object \n",
      "dtypes: float64(6), object(1)\n",
      "memory usage: 273.6+ KB\n"
     ]
    }
   ],
   "source": [
    "df.info()"
   ]
  },
  {
   "cell_type": "code",
   "execution_count": 27,
   "id": "32a5e789",
   "metadata": {},
   "outputs": [],
   "source": [
    " from sklearn.linear_model  import LinearRegression"
   ]
  },
  {
   "cell_type": "code",
   "execution_count": 40,
   "id": "3c68823e",
   "metadata": {},
   "outputs": [],
   "source": [
    "# choosing the dep and independ vars\n",
    "X= df.iloc[:, 0:5]\n",
    "y= df.iloc[:, 5] "
   ]
  },
  {
   "cell_type": "code",
   "execution_count": null,
   "id": "3bd73bb3",
   "metadata": {},
   "outputs": [],
   "source": [
    "X= np.log2(X)"
   ]
  },
  {
   "cell_type": "code",
   "execution_count": 42,
   "id": "1ca763bb",
   "metadata": {},
   "outputs": [],
   "source": [
    "y= np.log2(y)"
   ]
  },
  {
   "cell_type": "code",
   "execution_count": 43,
   "id": "08d35491",
   "metadata": {},
   "outputs": [],
   "source": [
    "# Create a linear regression object\n",
    "lm = LinearRegression()"
   ]
  },
  {
   "cell_type": "code",
   "execution_count": 44,
   "id": "0b91fa88",
   "metadata": {},
   "outputs": [
    {
     "data": {
      "text/plain": [
       "LinearRegression()"
      ]
     },
     "execution_count": 44,
     "metadata": {},
     "output_type": "execute_result"
    }
   ],
   "source": [
    "# fit the linear regression model\n",
    "lm.fit(X, y)"
   ]
  },
  {
   "cell_type": "code",
   "execution_count": 45,
   "id": "fb40eb36",
   "metadata": {},
   "outputs": [
    {
     "name": "stdout",
     "output_type": "stream",
     "text": [
      "The Value of the Intercept is {:.7f}: -11.559316096191665\n"
     ]
    }
   ],
   "source": [
    "print('The Value of the Intercept is {:.7f}:' , format(lm.intercept_))"
   ]
  },
  {
   "cell_type": "code",
   "execution_count": 51,
   "id": "ae423f84",
   "metadata": {},
   "outputs": [
    {
     "data": {
      "text/plain": [
       "[('Avg. Area Income', 1.3058629394702812),\n",
       " ('Avg. Area House Age', 0.8744146419876312),\n",
       " ('Avg. Area Number of Rooms', 0.7492945587342114),\n",
       " ('Avg. Area Number of Bedrooms', 0.0050589637947115905),\n",
       " ('Area Population', 0.4263254695885954)]"
      ]
     },
     "execution_count": 51,
     "metadata": {},
     "output_type": "execute_result"
    }
   ],
   "source": [
    "list(zip(df.columns[0:], lm.coef_))"
   ]
  },
  {
   "cell_type": "code",
   "execution_count": 60,
   "id": "9f7350ab",
   "metadata": {},
   "outputs": [
    {
     "name": "stdout",
     "output_type": "stream",
     "text": [
      "The Avg. Area Income value  is: 1.3058629\n",
      "The Avg. Area House Age value  is: 0.8744146\n",
      "The Avg. Area Number of Rooms value  is: 0.7492946\n",
      "The Avg. Area Number of Bedrooms value  is: 0.0050590\n",
      "The Area Population value  is: 0.4263255\n"
     ]
    }
   ],
   "source": [
    "for var, coef in list(zip(df.columns[0:], lm.coef_)):\n",
    "    print('The {0:7s} value  is: {1:8.7f}'.format(var,coef))"
   ]
  },
  {
   "cell_type": "code",
   "execution_count": 61,
   "id": "2ed3d81d",
   "metadata": {},
   "outputs": [
    {
     "data": {
      "text/html": [
       "<div>\n",
       "<style scoped>\n",
       "    .dataframe tbody tr th:only-of-type {\n",
       "        vertical-align: middle;\n",
       "    }\n",
       "\n",
       "    .dataframe tbody tr th {\n",
       "        vertical-align: top;\n",
       "    }\n",
       "\n",
       "    .dataframe thead th {\n",
       "        text-align: right;\n",
       "    }\n",
       "</style>\n",
       "<table border=\"1\" class=\"dataframe\">\n",
       "  <thead>\n",
       "    <tr style=\"text-align: right;\">\n",
       "      <th></th>\n",
       "      <th>Variable</th>\n",
       "      <th>Coefficient</th>\n",
       "    </tr>\n",
       "  </thead>\n",
       "  <tbody>\n",
       "    <tr>\n",
       "      <th>0</th>\n",
       "      <td>Avg. Area Income</td>\n",
       "      <td>1.305863</td>\n",
       "    </tr>\n",
       "    <tr>\n",
       "      <th>1</th>\n",
       "      <td>Avg. Area House Age</td>\n",
       "      <td>0.874415</td>\n",
       "    </tr>\n",
       "    <tr>\n",
       "      <th>2</th>\n",
       "      <td>Avg. Area Number of Rooms</td>\n",
       "      <td>0.749295</td>\n",
       "    </tr>\n",
       "    <tr>\n",
       "      <th>3</th>\n",
       "      <td>Avg. Area Number of Bedrooms</td>\n",
       "      <td>0.005059</td>\n",
       "    </tr>\n",
       "    <tr>\n",
       "      <th>4</th>\n",
       "      <td>Area Population</td>\n",
       "      <td>0.426325</td>\n",
       "    </tr>\n",
       "  </tbody>\n",
       "</table>\n",
       "</div>"
      ],
      "text/plain": [
       "                       Variable  Coefficient\n",
       "0              Avg. Area Income     1.305863\n",
       "1           Avg. Area House Age     0.874415\n",
       "2     Avg. Area Number of Rooms     0.749295\n",
       "3  Avg. Area Number of Bedrooms     0.005059\n",
       "4               Area Population     0.426325"
      ]
     },
     "execution_count": 61,
     "metadata": {},
     "output_type": "execute_result"
    }
   ],
   "source": [
    "results = pd.DataFrame(list(zip(df.columns[0:], lm.coef_)), \n",
    "             columns=[\"Variable\", \"Coefficient\"])\n",
    "results"
   ]
  },
  {
   "cell_type": "code",
   "execution_count": 63,
   "id": "e4c3050b",
   "metadata": {},
   "outputs": [],
   "source": [
    "y_pred= lm.predict(X)"
   ]
  },
  {
   "cell_type": "code",
   "execution_count": 64,
   "id": "37f5fe66",
   "metadata": {},
   "outputs": [],
   "source": [
    "from sklearn.metrics import mean_squared_error, r2_score, mean_absolute_error"
   ]
  },
  {
   "cell_type": "code",
   "execution_count": 65,
   "id": "ff297094",
   "metadata": {},
   "outputs": [
    {
     "name": "stdout",
     "output_type": "stream",
     "text": [
      "The R2 is :0.8058\n"
     ]
    }
   ],
   "source": [
    "print('The R2 is :{:.4f}' .format(r2_score(y_pred, y)))"
   ]
  },
  {
   "cell_type": "code",
   "execution_count": 66,
   "id": "9287bec4",
   "metadata": {},
   "outputs": [
    {
     "name": "stdout",
     "output_type": "stream",
     "text": [
      "The Mean Absolute Error is :0.1271\n"
     ]
    }
   ],
   "source": [
    "print('The Mean Absolute Error is :{:.4f}' .format(mean_absolute_error(y_pred, y)))"
   ]
  },
  {
   "cell_type": "code",
   "execution_count": 68,
   "id": "65d64aa8",
   "metadata": {},
   "outputs": [
    {
     "name": "stdout",
     "output_type": "stream",
     "text": [
      "The RMSE is :0.1958\n"
     ]
    }
   ],
   "source": [
    "print('The RMSE is :{:.4f}' .format(np.sqrt(mean_squared_error(y, y_pred))))"
   ]
  },
  {
   "cell_type": "markdown",
   "id": "7790ed68",
   "metadata": {},
   "source": [
    "# Train-Test and Model Validation¶"
   ]
  },
  {
   "cell_type": "code",
   "execution_count": 69,
   "id": "569eab96",
   "metadata": {},
   "outputs": [],
   "source": [
    "from sklearn.model_selection import train_test_split"
   ]
  },
  {
   "cell_type": "code",
   "execution_count": 70,
   "id": "a9fb3c61",
   "metadata": {},
   "outputs": [],
   "source": [
    "X_train, X_test, y_train, y_test= train_test_split( X, y, \n",
    "                                                   test_size=0.2, \n",
    "                                                   random_state=1711)"
   ]
  },
  {
   "cell_type": "code",
   "execution_count": 71,
   "id": "14900c87",
   "metadata": {},
   "outputs": [
    {
     "name": "stdout",
     "output_type": "stream",
     "text": [
      "(4000, 5) (1000, 5) (4000,) (1000,)\n"
     ]
    }
   ],
   "source": [
    "print(X_train.shape, X_test.shape, y_train.shape, y_test.shape)"
   ]
  },
  {
   "cell_type": "code",
   "execution_count": 72,
   "id": "3ae3128e",
   "metadata": {},
   "outputs": [],
   "source": [
    "Lm= LinearRegression()"
   ]
  },
  {
   "cell_type": "code",
   "execution_count": 73,
   "id": "071d9ad6",
   "metadata": {},
   "outputs": [
    {
     "data": {
      "text/plain": [
       "LinearRegression()"
      ]
     },
     "execution_count": 73,
     "metadata": {},
     "output_type": "execute_result"
    }
   ],
   "source": [
    "Lm.fit(X_train, y_train)"
   ]
  },
  {
   "cell_type": "code",
   "execution_count": 77,
   "id": "a2e8d919",
   "metadata": {},
   "outputs": [],
   "source": [
    "pred_train= lm.predict(X_train)\n",
    "pred_test= lm.predict(X_test)"
   ]
  },
  {
   "cell_type": "code",
   "execution_count": 78,
   "id": "a741c1d6",
   "metadata": {},
   "outputs": [
    {
     "name": "stdout",
     "output_type": "stream",
     "text": [
      "The R2 is : 0.79421\n"
     ]
    }
   ],
   "source": [
    "print('The R2 is : {:0.5f}'.format(r2_score(pred_train, y_train)))"
   ]
  },
  {
   "cell_type": "code",
   "execution_count": 79,
   "id": "e5abb373",
   "metadata": {},
   "outputs": [
    {
     "name": "stdout",
     "output_type": "stream",
     "text": [
      "The R2 is : 0.85291\n"
     ]
    }
   ],
   "source": [
    "print('The R2 is : {:0.5f}'.format(r2_score(pred_test, y_test)))"
   ]
  },
  {
   "cell_type": "code",
   "execution_count": 80,
   "id": "99a638ca",
   "metadata": {},
   "outputs": [
    {
     "name": "stdout",
     "output_type": "stream",
     "text": [
      "The R2 is : 0.12884\n"
     ]
    }
   ],
   "source": [
    "print('The R2 is : {:0.5f}'.format(mean_absolute_error(pred_train, y_train)))"
   ]
  },
  {
   "cell_type": "code",
   "execution_count": 81,
   "id": "c4da724c",
   "metadata": {},
   "outputs": [
    {
     "name": "stdout",
     "output_type": "stream",
     "text": [
      "The R2 is : 0.12027\n"
     ]
    }
   ],
   "source": [
    "print('The R2 is : {:0.5f}'.format(mean_absolute_error(pred_test, y_test)))"
   ]
  },
  {
   "cell_type": "code",
   "execution_count": 82,
   "id": "90eb34cc",
   "metadata": {},
   "outputs": [
    {
     "name": "stdout",
     "output_type": "stream",
     "text": [
      "The R2 is : 0.20201\n"
     ]
    }
   ],
   "source": [
    "print('The R2 is : {:0.5f}'.format(np.sqrt(mean_squared_error(pred_train, y_train))))"
   ]
  },
  {
   "cell_type": "code",
   "execution_count": 83,
   "id": "7c819152",
   "metadata": {},
   "outputs": [
    {
     "name": "stdout",
     "output_type": "stream",
     "text": [
      "The R2 is : 0.16857\n"
     ]
    }
   ],
   "source": [
    "print('The R2 is : {:0.5f}'.format(np.sqrt(mean_squared_error(pred_test, y_test))))"
   ]
  },
  {
   "cell_type": "code",
   "execution_count": null,
   "id": "56f79a4d",
   "metadata": {},
   "outputs": [],
   "source": []
  }
 ],
 "metadata": {
  "kernelspec": {
   "display_name": "Python 3",
   "language": "python",
   "name": "python3"
  },
  "language_info": {
   "codemirror_mode": {
    "name": "ipython",
    "version": 3
   },
   "file_extension": ".py",
   "mimetype": "text/x-python",
   "name": "python",
   "nbconvert_exporter": "python",
   "pygments_lexer": "ipython3",
   "version": "3.8.8"
  }
 },
 "nbformat": 4,
 "nbformat_minor": 5
}
